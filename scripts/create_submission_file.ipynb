{
 "cells": [
  {
   "cell_type": "code",
   "execution_count": 23,
   "metadata": {},
   "outputs": [],
   "source": [
    "import numpy as np\n",
    "from hepdata_lib import Submission, Table, Variable, RootFileReader, Uncertainty\n",
    "import ROOT as rt"
   ]
  },
  {
   "cell_type": "code",
   "execution_count": 24,
   "metadata": {},
   "outputs": [],
   "source": [
    "submission = Submission()"
   ]
  },
  {
   "cell_type": "code",
   "execution_count": 25,
   "metadata": {},
   "outputs": [],
   "source": [
    "input_file_dir = '/Users/christinawang/Desktop/Caltech/Research/LLP/SupplementaryMaterials/input_files/'"
   ]
  },
  {
   "cell_type": "markdown",
   "metadata": {},
   "source": [
    "# create limit tables"
   ]
  },
  {
   "cell_type": "code",
   "execution_count": 26,
   "metadata": {},
   "outputs": [],
   "source": [
    "limit_table = {}\n",
    "table_name = ['Figure 3-a', 'Figure 3-b', 'Additional Figure 1']\n",
    "variable_name = ['c$\\\\tau$'] + ['95% CL upper limit on B(H $\\\\rightarrow$ SS)']*6\n",
    "variable_qualifier = ['c$\\\\tau$', '-2 $\\\\sigma$', '-1 $\\\\sigma$', 'Median expected', '+1 $\\\\sigma$', '+2 $\\\\sigma$', 'Observed']\n",
    "description = 'The 95% CL observed and expected limits on the branching fraction B(H $\\\\rightarrow$ SS)\\\n",
    " for 7 GeV mass and $ S \\\\rightarrow b\\\\bar{b}$ decay mode.'\n",
    "\n",
    "for j, decay in enumerate([ 'dddd', '4Tau', 'bbbb']):\n",
    "    for m in [7, 15, 40, 55]:\n",
    "        if m == 7 and decay == 'bbbb':continue\n",
    "        key = decay+str(m)\n",
    "        limit_table[key] = Table(table_name[j]+' ('+str(m)+' GeV)')\n",
    "        descrip_temp = description.replace('7 GeV', str(m)+' GeV')\n",
    "        if decay == 'bbbb':\n",
    "            limit_table[key].description = descrip_temp\n",
    "        elif decay == 'dddd':\n",
    "            limit_table[key].description=descrip_temp.replace('b\\\\bar{b}', 'd\\\\bar{d}')\n",
    "        elif decay == '4Tau':\n",
    "            limit_table[key].description=descrip_temp.replace('b\\\\bar{b}', '\\\\tau^{+} \\\\tau^{-}')\n",
    "#         limit_table[key].description += ' for LLP mass '+str(m)+' GeV'\n",
    "\n",
    "#         limit_table[key].description = '$$\\rightarrow$$'\n",
    "#         limit_table[key].description = description[0]\n",
    "        \n",
    "        limit_table[key].location = table_name[j]\n",
    "        limit_table[key].keywords[\"cmenergies\"] = [\"13000.0\"]\n",
    "        limit_table[key].keywords[\"observables\"] = [\"CLS\"]\n",
    "\n",
    "\n",
    "\n",
    "        \n",
    "        \n",
    "        data = np.loadtxt(input_file_dir+'limits'+decay+'_m'+str(m)+'_hybridNew.txt')\n",
    "        var = {}\n",
    "        for i in range(len(variable_name)):#loop over the independent and dependent variables\n",
    "#             if i == 0: var[i] = Variable(variable_name[i], is_independent = True, is_binned = False, units = 'm') #ctau\n",
    "#             else:var[i] = Variable(variable_name[i], is_independent = False, is_binned = False, units = '') #limits\n",
    "            if i == 0: \n",
    "                var[i] = Variable(variable_name[i], is_independent = True, is_binned = False, units = 'm') #ctau\n",
    "            else:\n",
    "                var[i] = Variable(variable_name[i], is_independent = False, is_binned = False, units = '') #limits\n",
    "                var[i].add_qualifier(\"Quantile\",variable_qualifier[i])\n",
    "\n",
    "\n",
    "            var[i].values = data[:,i]\n",
    "#             var[i].add_qualifier('Process', )\n",
    "            limit_table[key].add_variable(var[i])\n",
    "\n",
    "\n",
    " \n",
    "\n",
    "\n",
    "        submission.add_table(limit_table[key])"
   ]
  },
  {
   "cell_type": "markdown",
   "metadata": {},
   "source": []
  },
  {
   "cell_type": "code",
   "execution_count": null,
   "metadata": {},
   "outputs": [],
   "source": []
  },
  {
   "cell_type": "markdown",
   "metadata": {},
   "source": [
    "# region diagram"
   ]
  },
  {
   "cell_type": "code",
   "execution_count": 27,
   "metadata": {},
   "outputs": [],
   "source": [
    "region_def = {\n",
    "'a': 'Region A is defined as 391 cm $< r <$ 695.5 cm and 400 cm $< |z| <$ 671 cm. ',\n",
    "'b': 'Region B is defined as 671 cm $< |z| <$ 1100 cm, $r <$ 695.5 cm, and $|\\eta| <$ 2. ',\n",
    "}\n"
   ]
  },
  {
   "cell_type": "code",
   "execution_count": 28,
   "metadata": {},
   "outputs": [],
   "source": [
    "description = \\\n",
    "['The cluster efficiency in bins of hadronic and EM energy in region A.\\\n",
    " The cluster efficiency is estimated with LLPs decaying to $\\\\tau^{+} \\\\tau^{-}$.\\\n",
    " The sample contains equal fractions of events\\\n",
    " with LLP mass of 7, 15, 40, and 55 GeV and LLP lifetime of 0.1, 1, 10, and 100m.\\\n",
    " The first hadronic energy bins correspond to LLPs that decayed leptonically with 0 hadronic energy.\\\n",
    " The cluster efficiency includes all cluster-level selections described in the paper, except for the\\\n",
    " jet veto, time cut, and $\\Delta\\phi$ cut.\\\n",
    " The full simulation signal yield prediction for samples with various LLP mass between 7 - 55 GeV,\\\n",
    " lifetime between 0.1 - 100 m, and decay mode to $d\\\\bar{d}$ and $\\\\tau^{+} \\\\tau^{-}$ can be reproduced using this\\\n",
    " parameterization to within 35% and 20% for region A and B, respectively.',\n",
    "\n",
    "'The efficiency of $N_{station} > 1$ requirement in bins of hadronic energy in region A.\\\n",
    " The cluster efficiency is estimated with LLPs decaying to $\\\\tau^{+} \\\\tau^{-}$.\\\n",
    " The sample contains equal fractions of events\\\n",
    " with LLP mass of 7, 15, 40, and 55 GeV and LLP lifetime of 0.1, 1, 10, and 100m.\\\n",
    " The first hadronic energy bin corresponds to LLPs that decayed leptonically with 0 hadronic energy.\\\n",
    " The efficiency is calculated with respect\\\n",
    " to clusters that pass all cluster-level cuts described in the paper, except for the jet veto, time cut,\\\n",
    " and $\\Delta\\phi$ cut.\\\n",
    " The full simulation signal yield prediction for samples with various LLP mass between 7 - 55 GeV,\\\n",
    " lifetime between 0.1 - 100 m, and decay mode to $d\\\\bar{d}$ and $\\\\tau^{+} \\\\tau^{-}$ can be reproduced using this\\\n",
    " parameterization to within 10%.']\n",
    "\n",
    "\n"
   ]
  },
  {
   "cell_type": "markdown",
   "metadata": {},
   "source": [
    "# cluster eff"
   ]
  },
  {
   "cell_type": "code",
   "execution_count": 29,
   "metadata": {},
   "outputs": [],
   "source": [
    "# rootDir = '/Users/christinawang/Desktop/Caltech/Research/LLP/plots/MuonSystem_Analysis/supplementary/v114/'\n",
    "# imgDir_cluster = '/Users/christinawang/Desktop/Caltech/Research/LLP/plots/MuonSystem_Analysis/supplementary/cluster_eff/v114/'\n",
    "# imgDir_id = '/Users/christinawang/Desktop/Caltech/Research/LLP/plots/MuonSystem_Analysis/supplementary/cut_based_id/v114/'\n",
    "\n",
    "\n",
    "\n",
    "# files = [ 'cluster_eff_50', 'cluster_eff_130', 'cutbasedID_eff_50']\n",
    "# files = [ 'cluster_eff_50_correction', 'cluster_eff_130_correction', 'cutbasedID_eff_50']\n",
    "# names = [ 'Cluster (>50 hits) Efficiency', 'Cluster (>130 hits) Efficiency', 'NStation > 1 Efficiency']\n",
    "\n",
    "files = [ 'cluster_eff_130_correction', 'cutbasedID_eff_130']\n",
    "names = [ 'Cluster (>130 hits) Efficiency', 'NStation > 1 Efficiency']\n",
    "\n",
    "\n",
    "for i, f in enumerate(files):\n",
    "    \n",
    "    if i == 0:reader = rt.TFile(input_file_dir+f+'.root', 'READ')\n",
    "    else: reader = RootFileReader(input_file_dir+f+'.root')\n",
    "    for region in ['a','b']:\n",
    "        if i == 1 and region == 'a':continue\n",
    "        if 'cluster' in f:\n",
    "            hist= reader.Get('h_poly_4Tau_'+region).GetBins()\n",
    "            histUp= reader.Get('h_poly_4Tau_'+region+'Up').GetBins()\n",
    "            histDown= reader.Get('h_poly_4Tau_'+region+'Down').GetBins()\n",
    "            x_edges = []\n",
    "            y_edges = []\n",
    "            hist_z = []\n",
    "            histUp_z = []\n",
    "            histDown_z = []\n",
    "            for j in range(len(hist)):\n",
    "                x_edges.append((hist.At(j).GetXMin(), hist.At(j).GetXMax()))\n",
    "                y_edges.append((max(hist.At(j).GetYMin(), 0.0), hist.At(j).GetYMax()))\n",
    "                hist_z.append(hist.At(j).GetContent())\n",
    "                histUp_z.append(histUp.At(j).GetContent())\n",
    "                histDown_z.append(histDown.At(j).GetContent())\n",
    "        else:\n",
    "            hist = reader.read_hist_1d('h_4Tau_'+region)\n",
    "            histUp = reader.read_hist_1d('h_4Tau_'+region+'Up')\n",
    "            histDown = reader.read_hist_1d('h_4Tau_'+region+'Down')\n",
    "        hadE = Variable('Hadronic Energy', is_independent = True, is_binned = True, units = 'GeV') #hadronic energy            \n",
    "        EME = Variable('EM Energy', is_independent = True, is_binned = True, units = 'GeV') #EM energy\n",
    "        eff = Variable('Efficiency', is_independent = False, is_binned = False, units = '') #eff\n",
    "        eff_unc = Uncertainty('MC statistical uncertainty',is_symmetric=False)\n",
    "        \n",
    "\n",
    "        if 'cluster' in f:\n",
    "#             EME.values = hist['x_edges']\n",
    "#             hadE.values = hist['y_edges']\n",
    "#             eff.values = hist['z']\n",
    "#             eff_unc.values = zip(histUp['z'], list(np.array(histDown['z'])*-1))\n",
    "            \n",
    "            EME.values = x_edges\n",
    "            hadE.values = y_edges\n",
    "            eff.values = hist_z\n",
    "            eff_unc.values = zip(histUp_z, list(np.array(histDown_z)*-1))\n",
    "            \n",
    "        else:\n",
    "            hadE.values = hist['x_edges']\n",
    "            eff.values = hist['y']\n",
    "            eff_unc.values = zip(histUp['y'], list(np.array(histDown['y'])*-1))\n",
    "        eff.add_uncertainty(eff_unc)    \n",
    "        if i == 0:table = Table('Additional Figure '+ str(i+7) + region)\n",
    "        else:table = Table('Additional Figure '+ str(i+7))\n",
    "        descrip_temp = description[i].replace('in region A. ', 'in region '+region.capitalize()+'. ' + region_def[region])\n",
    "        if region == 'b': descrip_temp = descrip_temp.replace('35% for region A', '20% for region B')\n",
    "        \n",
    "        table.description = descrip_temp\n",
    "        table.keywords[\"cmenergies\"] = [\"13000.0\"]\n",
    "        table.keywords[\"observables\"] = [\"EFF\"]\n",
    "\n",
    "\n",
    "\n",
    "#         if i == 0: table.add_image(imgDir_cluster+'4Tau_region'+region.capitalize()+'nRechits50_correction_supplementary.pdf')\n",
    "#         elif i == 1:table.add_image(imgDir_cluster+'4Tau_region'+region.capitalize()+'nRechits130_correction_supplementary.pdf')\n",
    "#         else:table.add_image(imgDir_id+'4Tau_region'+region.capitalize()+'nRechits50_supplementary.pdf')\n",
    "        if i == 0: table.location = 'Additional Figure '+ str(i+7) + region\n",
    "        else: table.location = 'Additional Figure '+ str(i+7)\n",
    "        table.add_variable(hadE)\n",
    "        table.add_variable(eff)\n",
    "        if 'cluster' in f: table.add_variable(EME)\n",
    "\n",
    "\n",
    "        submission.add_table(table)"
   ]
  },
  {
   "cell_type": "markdown",
   "metadata": {},
   "source": [
    "# create acceptance plot"
   ]
  },
  {
   "cell_type": "code",
   "execution_count": 30,
   "metadata": {},
   "outputs": [],
   "source": [
    "accep_table = Table('Additional Figure 9')\n",
    "accep_table.description = 'The geometric signal acceptance as a function of $c\\\\tau$. \\\n",
    "The acceptance is shown for four different LLP mass hypotheses: 7, 15, 40, \\\n",
    "and 55 GeV. The acceptance is defined by requiring at least 1 LLP to decay in the region \\\n",
    "defined as  400 cm $< |z| <$ 1100 cm, $r < $ 695.5 cm, and $|\\eta| <$ 2.4.'\n",
    "\n",
    "accep_table.location = 'Additional Figure 9'\n",
    "accep_table.keywords[\"cmenergies\"] = [\"13000.0\"]\n",
    "accep_table.keywords[\"observables\"] = [\"ACC\"]\n",
    "\n",
    "var = {}\n",
    "\n",
    "for i, m in enumerate([7, 15, 40, 55]):\n",
    "    data = np.loadtxt(input_file_dir+'acceptance_m'+str(m)+'.txt')\n",
    "\n",
    "    var[i] = Variable('Acceptance', is_independent = False, is_binned = False, units = '') #limits\n",
    "    var[i].add_qualifier(\"LLP mass\",str(m)+' GeV')\n",
    "    var[i].values = data[:,1]\n",
    "    accep_table.add_variable(var[i])\n",
    "    \n",
    "    if m == 55:\n",
    "        var[0] = Variable('c$\\\\tau$', is_independent = True, is_binned = False, units = 'm') #ctau\n",
    "        var[0].values = data[:,0]\n",
    "        accep_table.add_variable(var[0])\n",
    "\n",
    "        \n",
    "    \n",
    "\n",
    "submission.add_table(accep_table)"
   ]
  },
  {
   "cell_type": "code",
   "execution_count": 31,
   "metadata": {},
   "outputs": [],
   "source": [
    "submission.add_additional_resource('Code for cut-based ID',input_file_dir+'cut_based_id.py', copy_file=True)\n",
    "submission.add_additional_resource('Signal generator cards',input_file_dir+'generator_cards.tar', copy_file=True)\n",
    "\n",
    "\n",
    "submission.add_additional_resource('Instructions for Reinterpretation',input_file_dir+'instructions.pdf', copy_file=True)"
   ]
  },
  {
   "cell_type": "code",
   "execution_count": 32,
   "metadata": {},
   "outputs": [],
   "source": [
    "submission.create_files('submission_file/')\n",
    "\n"
   ]
  },
  {
   "cell_type": "code",
   "execution_count": null,
   "metadata": {},
   "outputs": [],
   "source": []
  },
  {
   "cell_type": "code",
   "execution_count": null,
   "metadata": {},
   "outputs": [],
   "source": []
  },
  {
   "cell_type": "code",
   "execution_count": null,
   "metadata": {},
   "outputs": [],
   "source": []
  },
  {
   "cell_type": "code",
   "execution_count": null,
   "metadata": {},
   "outputs": [],
   "source": []
  },
  {
   "cell_type": "code",
   "execution_count": null,
   "metadata": {},
   "outputs": [],
   "source": []
  },
  {
   "cell_type": "code",
   "execution_count": null,
   "metadata": {},
   "outputs": [],
   "source": []
  }
 ],
 "metadata": {
  "kernelspec": {
   "display_name": "Python 3",
   "language": "python",
   "name": "python3"
  },
  "language_info": {
   "codemirror_mode": {
    "name": "ipython",
    "version": 3
   },
   "file_extension": ".py",
   "mimetype": "text/x-python",
   "name": "python",
   "nbconvert_exporter": "python",
   "pygments_lexer": "ipython3",
   "version": "3.9.6"
  }
 },
 "nbformat": 4,
 "nbformat_minor": 4
}
